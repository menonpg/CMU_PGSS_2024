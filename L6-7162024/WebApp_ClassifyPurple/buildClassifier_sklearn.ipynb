{
 "cells": [
  {
   "cell_type": "code",
   "execution_count": 2,
   "metadata": {},
   "outputs": [
    {
     "data": {
      "text/html": [
       "<div>\n",
       "<style scoped>\n",
       "    .dataframe tbody tr th:only-of-type {\n",
       "        vertical-align: middle;\n",
       "    }\n",
       "\n",
       "    .dataframe tbody tr th {\n",
       "        vertical-align: top;\n",
       "    }\n",
       "\n",
       "    .dataframe thead th {\n",
       "        text-align: right;\n",
       "    }\n",
       "</style>\n",
       "<table border=\"1\" class=\"dataframe\">\n",
       "  <thead>\n",
       "    <tr style=\"text-align: right;\">\n",
       "      <th></th>\n",
       "      <th>R</th>\n",
       "      <th>G</th>\n",
       "      <th>B</th>\n",
       "      <th>PurpleOrNot</th>\n",
       "      <th>Gender</th>\n",
       "      <th>AndrewID</th>\n",
       "    </tr>\n",
       "  </thead>\n",
       "  <tbody>\n",
       "    <tr>\n",
       "      <th>0</th>\n",
       "      <td>NaN</td>\n",
       "      <td>0</td>\n",
       "      <td>255.0</td>\n",
       "      <td>No</td>\n",
       "      <td>Male</td>\n",
       "      <td>pgmenon</td>\n",
       "    </tr>\n",
       "    <tr>\n",
       "      <th>1</th>\n",
       "      <td>183.0</td>\n",
       "      <td>1</td>\n",
       "      <td>235.0</td>\n",
       "      <td>Yes</td>\n",
       "      <td>Male</td>\n",
       "      <td>pgmenon</td>\n",
       "    </tr>\n",
       "    <tr>\n",
       "      <th>2</th>\n",
       "      <td>165.0</td>\n",
       "      <td>1</td>\n",
       "      <td>235.0</td>\n",
       "      <td>Yes</td>\n",
       "      <td>Male</td>\n",
       "      <td>pgmenon</td>\n",
       "    </tr>\n",
       "    <tr>\n",
       "      <th>3</th>\n",
       "      <td>153.0</td>\n",
       "      <td>2</td>\n",
       "      <td>255.0</td>\n",
       "      <td>Yes</td>\n",
       "      <td>Female</td>\n",
       "      <td>amanna</td>\n",
       "    </tr>\n",
       "    <tr>\n",
       "      <th>4</th>\n",
       "      <td>137.0</td>\n",
       "      <td>3</td>\n",
       "      <td>181.0</td>\n",
       "      <td>Yes</td>\n",
       "      <td>Male</td>\n",
       "      <td>etashj</td>\n",
       "    </tr>\n",
       "  </tbody>\n",
       "</table>\n",
       "</div>"
      ],
      "text/plain": [
       "       R  G      B PurpleOrNot  Gender AndrewID\n",
       "0    NaN  0  255.0          No    Male  pgmenon\n",
       "1  183.0  1  235.0         Yes    Male  pgmenon\n",
       "2  165.0  1  235.0         Yes    Male  pgmenon\n",
       "3  153.0  2  255.0         Yes  Female   amanna\n",
       "4  137.0  3  181.0         Yes    Male   etashj"
      ]
     },
     "execution_count": 2,
     "metadata": {},
     "output_type": "execute_result"
    }
   ],
   "source": [
    "# Build a gradient boosting model to predict ColorPurple from the dataset CMU_PGSS_2024/L5-7122024/ColorPurple.csv\n",
    "\n",
    "import pandas as pd\n",
    "import numpy as np\n",
    "from sklearn.model_selection import train_test_split\n",
    "from sklearn.ensemble import GradientBoostingClassifier\n",
    "\n",
    "# Load the data\n",
    "data = pd.read_csv(\"../../L5-7122024/ColorPurple.csv\")\n",
    "\n",
    "data.head()"
   ]
  },
  {
   "cell_type": "code",
   "execution_count": 6,
   "metadata": {},
   "outputs": [],
   "source": [
    "data = data.dropna()\n",
    "# use all the data to build the model for now\n",
    "X = data.drop(columns=['PurpleOrNot', 'Gender',\t'AndrewID'])\n",
    "y = data[\"PurpleOrNot\"]\n"
   ]
  },
  {
   "cell_type": "code",
   "execution_count": 7,
   "metadata": {},
   "outputs": [
    {
     "name": "stdout",
     "output_type": "stream",
     "text": [
      "Model saved to model.pkl\n"
     ]
    }
   ],
   "source": [
    "# Build the model and save the model to a file named model.pkl\n",
    "model = GradientBoostingClassifier()\n",
    "model.fit(X, y)\n",
    "\n",
    "import joblib\n",
    "joblib.dump(model, \"model.pkl\")\n",
    "\n",
    "print(\"Model saved to model.pkl\")"
   ]
  },
  {
   "cell_type": "code",
   "execution_count": 11,
   "metadata": {},
   "outputs": [
    {
     "name": "stdout",
     "output_type": "stream",
     "text": [
      "Prediction: ['No']\n",
      "Prediction probability: 0.21\n"
     ]
    }
   ],
   "source": [
    "# Test the model by creating some test data and making predictions\n",
    "# Load the model\n",
    "model = joblib.load(\"model.pkl\")\n",
    "\n",
    "# Create some test data with R, G and B columns ranging from 0 to 255\n",
    "test_data = pd.DataFrame({\n",
    "    \"R\": np.random.randint(0, 255, 1),\n",
    "    \"G\": np.random.randint(0, 255, 1),\n",
    "    \"B\": np.random.randint(0, 255, 1)\n",
    "})\n",
    "\n",
    "# make a prediction\n",
    "prediction = model.predict(test_data)\n",
    "prediction_proba = model.predict_proba(test_data)\n",
    "\n",
    "print(\"Prediction:\", prediction)\n",
    "print(\"Prediction probability:\", round(prediction_proba[0][1],2))"
   ]
  }
 ],
 "metadata": {
  "language_info": {
   "name": "python"
  }
 },
 "nbformat": 4,
 "nbformat_minor": 2
}
